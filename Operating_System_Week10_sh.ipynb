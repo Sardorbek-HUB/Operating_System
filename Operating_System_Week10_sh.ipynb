{
  "nbformat": 4,
  "nbformat_minor": 0,
  "metadata": {
    "colab": {
      "provenance": [],
      "authorship_tag": "ABX9TyO7y110tPopNNONILaMF54S",
      "include_colab_link": true
    },
    "kernelspec": {
      "name": "python3",
      "display_name": "Python 3"
    },
    "language_info": {
      "name": "python"
    }
  },
  "cells": [
    {
      "cell_type": "markdown",
      "metadata": {
        "id": "view-in-github",
        "colab_type": "text"
      },
      "source": [
        "<a href=\"https://colab.research.google.com/github/Sardorbek-HUB/Operating_System/blob/main/Operating_System_Week10_sh.ipynb\" target=\"_parent\"><img src=\"https://colab.research.google.com/assets/colab-badge.svg\" alt=\"Open In Colab\"/></a>"
      ]
    },
    {
      "cell_type": "code",
      "execution_count": null,
      "metadata": {
        "id": "pG3cYYf5RPhL"
      },
      "outputs": [],
      "source": [
        "%%writefile Operating_System_Week10_lab_session.sh\n",
        "\n",
        "#!/bin/bash\n",
        "# Lab Session: Analyzing and Storing Logs and Archiving Files\n",
        "# This script demonstrates how to work with system logs and archive/copy files in Ubuntu.\n",
        "#Part 1: Analyzing and Storing Logs\n",
        "# Step 1: View System Logs\n",
        "echo \"Step 1: Viewing System Logs\"\n",
        "cat /var/log/syslog\n",
        "echo \"\"\n",
        "# Step 2: Filter Logs for SSH Connections\n",
        "echo \"Step 2: Filtering Logs for SSH Connections\"\n",
        "cat /var/log/syslog | grep ssh\n",
        "echo \"\"\n",
        "# Step 3: Store Filtered Logs in a File\n",
        "echo \"Step 3: Storing Filtered Logs in ssh_logs.txt\"\n",
        "cat /var/log/syslog | grep ssh > ssh_logs.txt\n",
        "echo \"Filtered logs stored in ssh_logs.txt\"\n",
        "echo \"\"\n",
        "\n",
        "\n",
        "!chmod +x lab_session.sh\n",
        "!./lab_session.sh\n",
        "\n",
        "\n",
        "Step 1: Viewing System Logs\n",
        "cat: /var/log/syslog: No such file or directory\n",
        "\n",
        "Step 2: Filtering Logs for SSH Connections\n",
        "cat: /var/log/syslog: No such file or directory\n",
        "\n",
        "Step 3: Storing Filtered Logs in ssh_logs.txt\n",
        "cat: /var/log/syslog: No such file or directory\n",
        "Filtered logs stored in ssh_logs.txt\n",
        "\n",
        "Step 4: Creating Sample Files\n",
        "Sample files created: file1.txt, file2.txt, file3.txt\n",
        "\n",
        "Step 5: Archiving Files with tar\n",
        "file1.txt\n",
        "file2.txt\n",
        "file3.txt\n",
        "Files archived in my archive.tar.gz\n"
      ]
    }
  ]
}