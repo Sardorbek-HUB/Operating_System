{
  "nbformat": 4,
  "nbformat_minor": 0,
  "metadata": {
    "colab": {
      "provenance": [],
      "authorship_tag": "ABX9TyPpOEu4Uw8rVWnyWN6FqW57",
      "include_colab_link": true
    },
    "kernelspec": {
      "name": "python3",
      "display_name": "Python 3"
    },
    "language_info": {
      "name": "python"
    }
  },
  "cells": [
    {
      "cell_type": "markdown",
      "metadata": {
        "id": "view-in-github",
        "colab_type": "text"
      },
      "source": [
        "<a href=\"https://colab.research.google.com/github/Sardorbek-HUB/Operating_System/blob/main/Operating_System_Week11.ipynb\" target=\"_parent\"><img src=\"https://colab.research.google.com/assets/colab-badge.svg\" alt=\"Open In Colab\"/></a>"
      ]
    },
    {
      "cell_type": "code",
      "execution_count": 11,
      "metadata": {
        "colab": {
          "base_uri": "https://localhost:8080/"
        },
        "id": "F-Q9mAveURXm",
        "outputId": "fae1e7e8-e1eb-4b0e-9f76-22a82ac8cce0"
      },
      "outputs": [
        {
          "output_type": "stream",
          "name": "stdout",
          "text": [
            "NAME    MAJ:MIN RM  SIZE RO TYPE MOUNTPOINTS\n",
            "loop0     7:0    0  110G  0 loop \n",
            "sda       8:0    0   48G  0 disk \n",
            "├─sda1    8:1    0 43.8G  0 part /etc/hosts\n",
            "│                                /etc/hostname\n",
            "│                                /etc/resolv.conf\n",
            "├─sda2    8:2    0   16M  0 part \n",
            "├─sda3    8:3    0    2G  0 part \n",
            "├─sda4    8:4    0   16M  0 part \n",
            "├─sda5    8:5    0    2G  0 part \n",
            "├─sda6    8:6    0  512B  0 part \n",
            "├─sda7    8:7    0  512B  0 part \n",
            "├─sda8    8:8    0   16M  0 part \n",
            "├─sda9    8:9    0  512B  0 part \n",
            "├─sda10   8:10   0  512B  0 part \n",
            "├─sda11   8:11   0    8M  0 part \n",
            "└─sda12   8:12   0   32M  0 part \n",
            "\n"
          ]
        }
      ],
      "source": [
        "#Example 1\n",
        "import subprocess\n",
        "\n",
        "def list_storage_devices():\n",
        "  command = 'lsblk'\n",
        "  result = subprocess.run(command, shell=True, stdout=subprocess.PIPE, text=True)\n",
        "  print(result.stdout)\n",
        "\n",
        "list_storage_devices()"
      ]
    },
    {
      "cell_type": "code",
      "source": [
        "#Example 2\n",
        "import subprocess\n",
        "\n",
        "def check_disk_space(device):\n",
        "  command = f\"df -h {device}\"\n",
        "  result = subprocess.run(command, shell=True, stdout=subprocess.PIPE, text=True)\n",
        "  print(result.stdout)\n",
        "\n",
        "check_disk_space(\"/dev/sda1\")"
      ],
      "metadata": {
        "colab": {
          "base_uri": "https://localhost:8080/"
        },
        "id": "jCajDajOWBs3",
        "outputId": "697af567-fe82-41fb-ac7f-98afcc2c163a"
      },
      "execution_count": 12,
      "outputs": [
        {
          "output_type": "stream",
          "name": "stdout",
          "text": [
            "\n"
          ]
        }
      ]
    },
    {
      "cell_type": "code",
      "source": [
        "#Example 3\n",
        "import subprocess\n",
        "\n",
        "def mount_device(device, mount_point):\n",
        "  command = f\"sudo mount {device} {mount_point}\"\n",
        "  result = subprocess.run(command, shell=True, stdout=subprocess.PIPE, text=True)\n",
        "  print(result.stdout)\n",
        "\n",
        "mount_device(\"/dev/sdb1\", \"/mnt/mydisk\")"
      ],
      "metadata": {
        "colab": {
          "base_uri": "https://localhost:8080/"
        },
        "id": "Ri7Cl0sHZukq",
        "outputId": "84b84556-b05c-40b6-be4c-12f8343e8adf"
      },
      "execution_count": 13,
      "outputs": [
        {
          "output_type": "stream",
          "name": "stdout",
          "text": [
            "\n"
          ]
        }
      ]
    },
    {
      "cell_type": "code",
      "source": [
        "#Example 4\n",
        "import subprocess\n",
        "\n",
        "def format_device(device, filesystem_type):\n",
        "  command = f\"sudo mkfs.{filesystem_type} {device}\"\n",
        "  result = subprocess.run(command, shell=True, stdout=subprocess.PIPE, text=True)\n",
        "  print(result.stdout)\n",
        "\n",
        "format_device(\"/dev/sdc1\", \"ext4\")"
      ],
      "metadata": {
        "colab": {
          "base_uri": "https://localhost:8080/"
        },
        "id": "VYBomshybFri",
        "outputId": "5a28927f-3127-4f8f-c5c5-8520bff49e4b"
      },
      "execution_count": 14,
      "outputs": [
        {
          "output_type": "stream",
          "name": "stdout",
          "text": [
            "\n"
          ]
        }
      ]
    },
    {
      "cell_type": "code",
      "source": [
        "#Example 5\n",
        "import subprocess\n",
        "\n",
        "def unmount_device(mount_point):\n",
        "  command = f\"sudo unmount {mount_point}\"\n",
        "  result = subprocess.run(command, shell=True, stdout=subprocess.PIPE, text=True)\n",
        "  print(result.stdout)\n",
        "\n",
        "unmount_device(\"/mnt/mydisk\")"
      ],
      "metadata": {
        "colab": {
          "base_uri": "https://localhost:8080/"
        },
        "id": "yi1k0vzMb8Tc",
        "outputId": "513aca17-bb63-449d-ef9a-87b91eaa8d2a"
      },
      "execution_count": 15,
      "outputs": [
        {
          "output_type": "stream",
          "name": "stdout",
          "text": [
            "\n"
          ]
        }
      ]
    },
    {
      "cell_type": "code",
      "source": [
        "#Example 6\n",
        "def list_mounted_devices():\n",
        "  command = \"mount | grep '/dev/sd'\"\n",
        "  result = subprocess.run(command, shell=True, stdout=subprocess.PIPE, text=True)\n",
        "  print(result.stdout)\n",
        "\n",
        "#Example 7\n",
        "def check_directory_disk_usage(directory):\n",
        "  command = f\"du -sh {directory}\"\n",
        "  result = subprocess.run(command, shell=True, stdout=subprocess.PIPE, text=True)\n",
        "  print(result.stdout)\n",
        "\n",
        "#Example 8\n",
        "def create_directory(directory):\n",
        "  command = f\"mkdir {directory}\"\n",
        "  result = subprocess.run(command, shell=True, stdout=subprocess.PIPE, text=True)\n",
        "  print(result.stdout)\n",
        "#Example 9\n",
        "def remove_directory(directory):\n",
        "  command = f\"sudo rm -r {directory}\"\n",
        "  result = subprocess.run(command, shell=True, stdout=subprocess.PIPE, text=True)\n",
        "  print(result.stdout)\n",
        "\n",
        "#Example 10\n",
        "def get_device_info(device):\n",
        "  command = f\"udevadm info -q property -n {device}\"\n",
        "  result = subprocess.run(command, shell=True, stdout=subprocess.PIPE, text=True)\n",
        "  print(result.stdout)\n",
        "\n",
        "#Main test part\n",
        "if __name__ == \"__main__\":\n",
        "  list_storage_devices()\n",
        "  check_disk_space(\"/dev/sda1\")\n",
        "  mount_device(\"/dev/sdb1\", \"/mnt/mydisk\")\n",
        "  unmount_device(\"/mnt/mydisk\")\n",
        "  list_mounted_devices()\n",
        "  check_directory_disk_usage(\"/home/user/documents\")\n",
        "  create_directory(\"/tmp/new_directory\")\n",
        "  get_device_info(\"/dev/sda1\")"
      ],
      "metadata": {
        "colab": {
          "base_uri": "https://localhost:8080/"
        },
        "id": "gL95kfsscnER",
        "outputId": "ba308081-3d9b-417c-d741-1e75d37c5b3a"
      },
      "execution_count": 16,
      "outputs": [
        {
          "output_type": "stream",
          "name": "stdout",
          "text": [
            "NAME    MAJ:MIN RM  SIZE RO TYPE MOUNTPOINTS\n",
            "loop0     7:0    0  110G  0 loop \n",
            "sda       8:0    0   48G  0 disk \n",
            "├─sda1    8:1    0 43.8G  0 part /etc/hosts\n",
            "│                                /etc/hostname\n",
            "│                                /etc/resolv.conf\n",
            "├─sda2    8:2    0   16M  0 part \n",
            "├─sda3    8:3    0    2G  0 part \n",
            "├─sda4    8:4    0   16M  0 part \n",
            "├─sda5    8:5    0    2G  0 part \n",
            "├─sda6    8:6    0  512B  0 part \n",
            "├─sda7    8:7    0  512B  0 part \n",
            "├─sda8    8:8    0   16M  0 part \n",
            "├─sda9    8:9    0  512B  0 part \n",
            "├─sda10   8:10   0  512B  0 part \n",
            "├─sda11   8:11   0    8M  0 part \n",
            "└─sda12   8:12   0   32M  0 part \n",
            "\n",
            "\n",
            "\n",
            "\n",
            "/dev/sda1 on /etc/resolv.conf type ext4 (rw,nosuid,nodev,relatime,commit=30)\n",
            "/dev/sda1 on /etc/hostname type ext4 (rw,nosuid,nodev,relatime,commit=30)\n",
            "/dev/sda1 on /etc/hosts type ext4 (rw,nosuid,nodev,relatime,commit=30)\n",
            "\n",
            "\n",
            "\n",
            "\n"
          ]
        }
      ]
    }
  ]
}